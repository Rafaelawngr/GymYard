{
  "nbformat": 4,
  "nbformat_minor": 0,
  "metadata": {
    "colab": {
      "provenance": [],
      "include_colab_link": true
    },
    "kernelspec": {
      "display_name": "Python 3",
      "name": "python3"
    }
  },
  "cells": [
    {
      "cell_type": "markdown",
      "metadata": {
        "id": "view-in-github",
        "colab_type": "text"
      },
      "source": [
        "<a href=\"https://colab.research.google.com/github/Rafaelawngr/GymYard/blob/main/calculo_treino_1.ipynb\" target=\"_parent\"><img src=\"https://colab.research.google.com/assets/colab-badge.svg\" alt=\"Open In Colab\"/></a>"
      ]
    },
    {
      "cell_type": "markdown",
      "metadata": {
        "id": "UUcBAKS165wn"
      },
      "source": [
        "GymYard - Cálculo progressão de carga Semanal"
      ]
    },
    {
      "cell_type": "code",
      "metadata": {
        "id": "qQqfXO-k64qW",
        "colab": {
          "base_uri": "https://localhost:8080/"
        },
        "outputId": "d4d9c1cb-abb5-4da2-c0a7-0c79c3a69113"
      },
      "source": [
        "# Instala pacote para uma versão mais recente.\n",
        "!pip install --upgrade gspread"
      ],
      "execution_count": null,
      "outputs": [
        {
          "output_type": "stream",
          "name": "stdout",
          "text": [
            "Requirement already satisfied: gspread in /usr/local/lib/python3.10/dist-packages (5.11.2)\n",
            "Collecting gspread\n",
            "  Downloading gspread-5.11.3-py3-none-any.whl (46 kB)\n",
            "\u001b[2K     \u001b[90m━━━━━━━━━━━━━━━━━━━━━━━━━━━━━━━━━━━━━━━━\u001b[0m \u001b[32m46.7/46.7 kB\u001b[0m \u001b[31m1.2 MB/s\u001b[0m eta \u001b[36m0:00:00\u001b[0m\n",
            "\u001b[?25hRequirement already satisfied: google-auth>=1.12.0 in /usr/local/lib/python3.10/dist-packages (from gspread) (2.17.3)\n",
            "Requirement already satisfied: google-auth-oauthlib>=0.4.1 in /usr/local/lib/python3.10/dist-packages (from gspread) (1.0.0)\n",
            "Requirement already satisfied: cachetools<6.0,>=2.0.0 in /usr/local/lib/python3.10/dist-packages (from google-auth>=1.12.0->gspread) (5.3.1)\n",
            "Requirement already satisfied: pyasn1-modules>=0.2.1 in /usr/local/lib/python3.10/dist-packages (from google-auth>=1.12.0->gspread) (0.3.0)\n",
            "Requirement already satisfied: six>=1.9.0 in /usr/local/lib/python3.10/dist-packages (from google-auth>=1.12.0->gspread) (1.16.0)\n",
            "Requirement already satisfied: rsa<5,>=3.1.4 in /usr/local/lib/python3.10/dist-packages (from google-auth>=1.12.0->gspread) (4.9)\n",
            "Requirement already satisfied: requests-oauthlib>=0.7.0 in /usr/local/lib/python3.10/dist-packages (from google-auth-oauthlib>=0.4.1->gspread) (1.3.1)\n",
            "Requirement already satisfied: pyasn1<0.6.0,>=0.4.6 in /usr/local/lib/python3.10/dist-packages (from pyasn1-modules>=0.2.1->google-auth>=1.12.0->gspread) (0.5.0)\n",
            "Requirement already satisfied: oauthlib>=3.0.0 in /usr/local/lib/python3.10/dist-packages (from requests-oauthlib>=0.7.0->google-auth-oauthlib>=0.4.1->gspread) (3.2.2)\n",
            "Requirement already satisfied: requests>=2.0.0 in /usr/local/lib/python3.10/dist-packages (from requests-oauthlib>=0.7.0->google-auth-oauthlib>=0.4.1->gspread) (2.31.0)\n",
            "Requirement already satisfied: charset-normalizer<4,>=2 in /usr/local/lib/python3.10/dist-packages (from requests>=2.0.0->requests-oauthlib>=0.7.0->google-auth-oauthlib>=0.4.1->gspread) (3.2.0)\n",
            "Requirement already satisfied: idna<4,>=2.5 in /usr/local/lib/python3.10/dist-packages (from requests>=2.0.0->requests-oauthlib>=0.7.0->google-auth-oauthlib>=0.4.1->gspread) (3.4)\n",
            "Requirement already satisfied: urllib3<3,>=1.21.1 in /usr/local/lib/python3.10/dist-packages (from requests>=2.0.0->requests-oauthlib>=0.7.0->google-auth-oauthlib>=0.4.1->gspread) (2.0.4)\n",
            "Requirement already satisfied: certifi>=2017.4.17 in /usr/local/lib/python3.10/dist-packages (from requests>=2.0.0->requests-oauthlib>=0.7.0->google-auth-oauthlib>=0.4.1->gspread) (2023.7.22)\n",
            "Installing collected packages: gspread\n",
            "  Attempting uninstall: gspread\n",
            "    Found existing installation: gspread 5.11.2\n",
            "    Uninstalling gspread-5.11.2:\n",
            "      Successfully uninstalled gspread-5.11.2\n",
            "Successfully installed gspread-5.11.3\n"
          ]
        }
      ]
    },
    {
      "cell_type": "code",
      "metadata": {
        "id": "1qM3lXHK8lJR"
      },
      "source": [
        "# Importa pacote de autenticação.\n",
        "import gspread                                                                  # Importa os módulos e autenticação.\n",
        "from google.colab import auth                                                   # Função para autenticação no Google Colab.\n",
        "from google.auth import default                                                 # Função para obter as credenciais padrão do Google.\n",
        "\n",
        "auth.authenticate_user()                                                        # Autenticação com as credenciais do Google.\n",
        "creds, _ = default()\n",
        "\n",
        "gc = gspread.authorize(creds)                                                   # Autorização do gspread com as credenciais."
      ],
      "execution_count": null,
      "outputs": []
    },
    {
      "cell_type": "code",
      "metadata": {
        "id": "fF5liFGC8p1B"
      },
      "source": [
        "# Utiliza sheet existente.\n",
        "planilha = gc.open('treinos')                                             # gc objeto que tem a autorização para usar o drive."
      ],
      "execution_count": null,
      "outputs": []
    },
    {
      "cell_type": "code",
      "metadata": {
        "id": "8CrBImmZ9uKw"
      },
      "source": [
        "# Abre a primeira página e busca células.\n",
        "page = planilha.sheet1"
      ],
      "execution_count": 104,
      "outputs": []
    },
    {
      "cell_type": "code",
      "source": [
        "# Mostra primeira linha.\n",
        "page.row_values(1)"
      ],
      "metadata": {
        "colab": {
          "base_uri": "https://localhost:8080/"
        },
        "id": "E-G0Uens1Ihk",
        "outputId": "56811d15-d357-489e-9948-dda495937d96"
      },
      "execution_count": 105,
      "outputs": [
        {
          "output_type": "execute_result",
          "data": {
            "text/plain": [
              "['A - QUADRÍCEPS', 'SÉRIES', 'CARGA', 'REPETIÇÕES']"
            ]
          },
          "metadata": {},
          "execution_count": 105
        }
      ]
    },
    {
      "cell_type": "code",
      "source": [
        "!pip install pandas\n"
      ],
      "metadata": {
        "colab": {
          "base_uri": "https://localhost:8080/"
        },
        "id": "Tt9a1hq31Ahp",
        "outputId": "e601c9cb-f724-4171-a679-e3e0a37ff109"
      },
      "execution_count": null,
      "outputs": [
        {
          "output_type": "stream",
          "name": "stdout",
          "text": [
            "Requirement already satisfied: pandas in /usr/local/lib/python3.10/dist-packages (1.5.3)\n",
            "Requirement already satisfied: python-dateutil>=2.8.1 in /usr/local/lib/python3.10/dist-packages (from pandas) (2.8.2)\n",
            "Requirement already satisfied: pytz>=2020.1 in /usr/local/lib/python3.10/dist-packages (from pandas) (2023.3.post1)\n",
            "Requirement already satisfied: numpy>=1.21.0 in /usr/local/lib/python3.10/dist-packages (from pandas) (1.23.5)\n",
            "Requirement already satisfied: six>=1.5 in /usr/local/lib/python3.10/dist-packages (from python-dateutil>=2.8.1->pandas) (1.16.0)\n"
          ]
        }
      ]
    },
    {
      "cell_type": "code",
      "source": [
        "import pandas as pd"
      ],
      "metadata": {
        "id": "7RA_AfcT1a98"
      },
      "execution_count": null,
      "outputs": []
    },
    {
      "cell_type": "code",
      "source": [
        "!pip install schedule"
      ],
      "metadata": {
        "colab": {
          "base_uri": "https://localhost:8080/"
        },
        "id": "cFFcIV9Z1qOH",
        "outputId": "2c399108-6e93-4973-965c-661740cae6ba"
      },
      "execution_count": null,
      "outputs": [
        {
          "output_type": "stream",
          "name": "stdout",
          "text": [
            "Collecting schedule\n",
            "  Downloading schedule-1.2.0-py2.py3-none-any.whl (11 kB)\n",
            "Installing collected packages: schedule\n",
            "Successfully installed schedule-1.2.0\n"
          ]
        }
      ]
    },
    {
      "cell_type": "code",
      "source": [
        "import math"
      ],
      "metadata": {
        "id": "Fyd9Opd-9yGe"
      },
      "execution_count": null,
      "outputs": []
    },
    {
      "cell_type": "code",
      "source": [
        "worksheet = planilha.get_worksheet(0)\n",
        "data = worksheet.get_all_records()\n",
        "\n",
        "# Lista de faixas de células que quero selecionar\n",
        "celulas_cargas = ['C2:C6', 'C8:C13', 'C15:C21', 'C23:C28']\n",
        "\n",
        "# Inicializa uma lista vazia para armazenar as células\n",
        "todas_as_cargas = []\n",
        "for faixa in celulas_cargas:\n",
        "    celulas = worksheet.range(faixa)\n",
        "    celulas_preenchidas = [celula for celula in celulas if celula.value != '']\n",
        "    todas_as_cargas.extend(celulas_preenchidas)\n",
        "\n",
        "# todas_as_cargas contém todas as células preenchidas das faixas especificadas\n",
        "for cell in todas_as_cargas:\n",
        "    print(cell.value)"
      ],
      "metadata": {
        "colab": {
          "base_uri": "https://localhost:8080/"
        },
        "id": "xE_vSRPs0a7t",
        "outputId": "2c0e6807-f878-439b-89f5-815731d1432c"
      },
      "execution_count": 107,
      "outputs": [
        {
          "output_type": "stream",
          "name": "stdout",
          "text": [
            "30\n",
            "80\n",
            "50\n",
            "30\n",
            "10\n",
            "11\n",
            "111\n",
            "17\n",
            "45\n",
            "67\n",
            "12\n",
            "11\n",
            "27\n",
            "32\n",
            "13\n",
            "6\n",
            "9\n",
            "32\n",
            "16\n",
            "9\n",
            "11\n",
            "6\n",
            "7\n",
            "27\n"
          ]
        }
      ]
    },
    {
      "cell_type": "code",
      "source": [
        "# Atualiza os valores nas células em 5% a mais e arredondar para cima\n",
        "for cell in todas_as_cargas:\n",
        "    valor_atual = float(cell.value)\n",
        "    novo_valor = math.ceil(valor_atual * 1.05)\n",
        "    cell.value = str(novo_valor)\n",
        "\n",
        "# Envia as alterações para a planilha\n",
        "worksheet.update_cells(todas_as_cargas)\n",
        "\n",
        "print(\"Valores atualizados com sucesso!\")"
      ],
      "metadata": {
        "colab": {
          "base_uri": "https://localhost:8080/"
        },
        "id": "3op1UUtj5fvn",
        "outputId": "9908a7b7-6ac3-48ff-e8b3-599d5646b36a"
      },
      "execution_count": null,
      "outputs": [
        {
          "output_type": "stream",
          "name": "stdout",
          "text": [
            "Valores atualizados com sucesso!\n"
          ]
        }
      ]
    }
  ]
}
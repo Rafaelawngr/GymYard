{
  "nbformat": 4,
  "nbformat_minor": 0,
  "metadata": {
    "colab": {
      "provenance": [],
      "include_colab_link": true
    },
    "kernelspec": {
      "display_name": "Python 3",
      "name": "python3"
    }
  },
  "cells": [
    {
      "cell_type": "markdown",
      "metadata": {
        "id": "view-in-github",
        "colab_type": "text"
      },
      "source": [
        "<a href=\"https://colab.research.google.com/github/Rafaelawngr/GymYard/blob/main/gymyard.ipynb\" target=\"_parent\"><img src=\"https://colab.research.google.com/assets/colab-badge.svg\" alt=\"Open In Colab\"/></a>"
      ]
    },
    {
      "cell_type": "markdown",
      "metadata": {
        "id": "UUcBAKS165wn"
      },
      "source": [
        "GymYard - Cálculo progressão de carga Semanal"
      ]
    },
    {
      "cell_type": "code",
      "metadata": {
        "id": "qQqfXO-k64qW",
        "colab": {
          "base_uri": "https://localhost:8080/"
        },
        "outputId": "d4d9c1cb-abb5-4da2-c0a7-0c79c3a69113"
      },
      "source": [
        "# Instala pacote para uma versão mais recente.\n",
        "!pip install --upgrade gspread"
      ],
      "execution_count": 90,
      "outputs": [
        {
          "output_type": "stream",
          "name": "stdout",
          "text": [
            "Requirement already satisfied: gspread in /usr/local/lib/python3.10/dist-packages (5.11.2)\n",
            "Collecting gspread\n",
            "  Downloading gspread-5.11.3-py3-none-any.whl (46 kB)\n",
            "\u001b[2K     \u001b[90m━━━━━━━━━━━━━━━━━━━━━━━━━━━━━━━━━━━━━━━━\u001b[0m \u001b[32m46.7/46.7 kB\u001b[0m \u001b[31m1.2 MB/s\u001b[0m eta \u001b[36m0:00:00\u001b[0m\n",
            "\u001b[?25hRequirement already satisfied: google-auth>=1.12.0 in /usr/local/lib/python3.10/dist-packages (from gspread) (2.17.3)\n",
            "Requirement already satisfied: google-auth-oauthlib>=0.4.1 in /usr/local/lib/python3.10/dist-packages (from gspread) (1.0.0)\n",
            "Requirement already satisfied: cachetools<6.0,>=2.0.0 in /usr/local/lib/python3.10/dist-packages (from google-auth>=1.12.0->gspread) (5.3.1)\n",
            "Requirement already satisfied: pyasn1-modules>=0.2.1 in /usr/local/lib/python3.10/dist-packages (from google-auth>=1.12.0->gspread) (0.3.0)\n",
            "Requirement already satisfied: six>=1.9.0 in /usr/local/lib/python3.10/dist-packages (from google-auth>=1.12.0->gspread) (1.16.0)\n",
            "Requirement already satisfied: rsa<5,>=3.1.4 in /usr/local/lib/python3.10/dist-packages (from google-auth>=1.12.0->gspread) (4.9)\n",
            "Requirement already satisfied: requests-oauthlib>=0.7.0 in /usr/local/lib/python3.10/dist-packages (from google-auth-oauthlib>=0.4.1->gspread) (1.3.1)\n",
            "Requirement already satisfied: pyasn1<0.6.0,>=0.4.6 in /usr/local/lib/python3.10/dist-packages (from pyasn1-modules>=0.2.1->google-auth>=1.12.0->gspread) (0.5.0)\n",
            "Requirement already satisfied: oauthlib>=3.0.0 in /usr/local/lib/python3.10/dist-packages (from requests-oauthlib>=0.7.0->google-auth-oauthlib>=0.4.1->gspread) (3.2.2)\n",
            "Requirement already satisfied: requests>=2.0.0 in /usr/local/lib/python3.10/dist-packages (from requests-oauthlib>=0.7.0->google-auth-oauthlib>=0.4.1->gspread) (2.31.0)\n",
            "Requirement already satisfied: charset-normalizer<4,>=2 in /usr/local/lib/python3.10/dist-packages (from requests>=2.0.0->requests-oauthlib>=0.7.0->google-auth-oauthlib>=0.4.1->gspread) (3.2.0)\n",
            "Requirement already satisfied: idna<4,>=2.5 in /usr/local/lib/python3.10/dist-packages (from requests>=2.0.0->requests-oauthlib>=0.7.0->google-auth-oauthlib>=0.4.1->gspread) (3.4)\n",
            "Requirement already satisfied: urllib3<3,>=1.21.1 in /usr/local/lib/python3.10/dist-packages (from requests>=2.0.0->requests-oauthlib>=0.7.0->google-auth-oauthlib>=0.4.1->gspread) (2.0.4)\n",
            "Requirement already satisfied: certifi>=2017.4.17 in /usr/local/lib/python3.10/dist-packages (from requests>=2.0.0->requests-oauthlib>=0.7.0->google-auth-oauthlib>=0.4.1->gspread) (2023.7.22)\n",
            "Installing collected packages: gspread\n",
            "  Attempting uninstall: gspread\n",
            "    Found existing installation: gspread 5.11.2\n",
            "    Uninstalling gspread-5.11.2:\n",
            "      Successfully uninstalled gspread-5.11.2\n",
            "Successfully installed gspread-5.11.3\n"
          ]
        }
      ]
    },
    {
      "cell_type": "code",
      "metadata": {
        "id": "1qM3lXHK8lJR"
      },
      "source": [
        "# Importa pacote de autenticação.\n",
        "import gspread                                                                  # Importa os módulos e autenticação.\n",
        "from google.colab import auth                                                   # Função para autenticação no Google Colab.\n",
        "from google.auth import default                                                 # Função para obter as credenciais padrão do Google.\n",
        "\n",
        "auth.authenticate_user()                                                        # Autenticação com as credenciais do Google.\n",
        "creds, _ = default()\n",
        "\n",
        "gc = gspread.authorize(creds)                                                   # Autorização do gspread com as credenciais."
      ],
      "execution_count": 91,
      "outputs": []
    },
    {
      "cell_type": "code",
      "metadata": {
        "id": "fF5liFGC8p1B"
      },
      "source": [
        "# Utiliza sheet existente.\n",
        "sh = gc.open('treinos')                                             # gc objeto que tem a autorização para usar o drive."
      ],
      "execution_count": 92,
      "outputs": []
    },
    {
      "cell_type": "code",
      "metadata": {
        "id": "8CrBImmZ9uKw"
      },
      "source": [
        "# Abre a primeira página e busca células.\n",
        "page = sh.sheet1"
      ],
      "execution_count": 93,
      "outputs": []
    },
    {
      "cell_type": "code",
      "source": [
        "# Mostra primeira linha.\n",
        "page.row_values(1)"
      ],
      "metadata": {
        "colab": {
          "base_uri": "https://localhost:8080/"
        },
        "id": "E-G0Uens1Ihk",
        "outputId": "0a0e3851-f0a2-46a6-ade8-5e7d8f9dd629"
      },
      "execution_count": 95,
      "outputs": [
        {
          "output_type": "execute_result",
          "data": {
            "text/plain": [
              "['A - QUADRÍCEPS', 'SÉRIES', 'CARGA', 'REPETIÇÕES']"
            ]
          },
          "metadata": {},
          "execution_count": 95
        }
      ]
    },
    {
      "cell_type": "code",
      "source": [
        "!pip install pandas\n"
      ],
      "metadata": {
        "colab": {
          "base_uri": "https://localhost:8080/"
        },
        "id": "Tt9a1hq31Ahp",
        "outputId": "f9c3dc39-3de1-4107-c2f7-f4ee300c8935"
      },
      "execution_count": 9,
      "outputs": [
        {
          "output_type": "stream",
          "name": "stdout",
          "text": [
            "Requirement already satisfied: pandas in /usr/local/lib/python3.10/dist-packages (1.5.3)\n",
            "Requirement already satisfied: python-dateutil>=2.8.1 in /usr/local/lib/python3.10/dist-packages (from pandas) (2.8.2)\n",
            "Requirement already satisfied: pytz>=2020.1 in /usr/local/lib/python3.10/dist-packages (from pandas) (2023.3.post1)\n",
            "Requirement already satisfied: numpy>=1.21.0 in /usr/local/lib/python3.10/dist-packages (from pandas) (1.23.5)\n",
            "Requirement already satisfied: six>=1.5 in /usr/local/lib/python3.10/dist-packages (from python-dateutil>=2.8.1->pandas) (1.16.0)\n"
          ]
        }
      ]
    },
    {
      "cell_type": "code",
      "source": [
        "import pandas as pd"
      ],
      "metadata": {
        "id": "7RA_AfcT1a98"
      },
      "execution_count": 96,
      "outputs": []
    },
    {
      "cell_type": "code",
      "source": [
        "!pip install schedule"
      ],
      "metadata": {
        "colab": {
          "base_uri": "https://localhost:8080/"
        },
        "id": "cFFcIV9Z1qOH",
        "outputId": "2c399108-6e93-4973-965c-661740cae6ba"
      },
      "execution_count": 12,
      "outputs": [
        {
          "output_type": "stream",
          "name": "stdout",
          "text": [
            "Collecting schedule\n",
            "  Downloading schedule-1.2.0-py2.py3-none-any.whl (11 kB)\n",
            "Installing collected packages: schedule\n",
            "Successfully installed schedule-1.2.0\n"
          ]
        }
      ]
    },
    {
      "cell_type": "code",
      "source": [
        "import math"
      ],
      "metadata": {
        "id": "Fyd9Opd-9yGe"
      },
      "execution_count": 80,
      "outputs": []
    },
    {
      "cell_type": "code",
      "source": [
        "planilha = gc.open(\"treinos\")"
      ],
      "metadata": {
        "id": "t6dySSsqnGMO"
      },
      "execution_count": 99,
      "outputs": []
    },
    {
      "cell_type": "code",
      "source": [
        "worksheet = planilha.get_worksheet(0)\n",
        "data = worksheet.get_all_records()\n",
        "\n",
        "# Lista de faixas de células que você deseja selecionar\n",
        "faixas_de_celulas = ['C2:C6', 'C8:C13', 'C15:C21', 'C23:C28']\n",
        "\n",
        "# Inicializa uma lista vazia para armazenar as células\n",
        "todas_as_celulas = []\n",
        "for faixa in faixas_de_celulas:\n",
        "    celulas = worksheet.range(faixa)\n",
        "    celulas_nao_em_branco = [celula for celula in celulas if celula.value != '']\n",
        "    todas_as_celulas.extend(celulas_nao_em_branco)\n",
        "\n",
        "# Agora todas_as_celulas contém todas as células não em branco das faixas especificadas\n",
        "for cell in todas_as_celulas:\n",
        "    print(cell.value)"
      ],
      "metadata": {
        "colab": {
          "base_uri": "https://localhost:8080/"
        },
        "id": "xE_vSRPs0a7t",
        "outputId": "d381387e-81fd-4a09-8f2c-1e9c8c68129d"
      },
      "execution_count": 101,
      "outputs": [
        {
          "output_type": "stream",
          "name": "stdout",
          "text": [
            "30\n",
            "80\n",
            "50\n",
            "32\n",
            "10\n",
            "10\n",
            "100\n",
            "15\n",
            "40\n",
            "60\n",
            "10\n",
            "10\n",
            "25\n",
            "30\n",
            "12\n",
            "5\n",
            "8\n",
            "30\n",
            "15\n",
            "8\n",
            "10\n",
            "5\n",
            "6\n",
            "25\n"
          ]
        }
      ]
    },
    {
      "cell_type": "code",
      "source": [
        "# Atualizar os valores nas células em 5% a mais e arredondar para cima\n",
        "for cell in todas_as_celulas:\n",
        "    valor_atual = float(cell.value)\n",
        "    novo_valor = math.ceil(valor_atual * 1.05)  # Arredonda para cima e aumenta em 5%\n",
        "    cell.value = str(novo_valor)\n",
        "\n",
        "# Enviar as alterações para a planilha\n",
        "worksheet.update_cells(todas_as_celulas)\n",
        "\n",
        "print(\"Valores atualizados com sucesso!\")"
      ],
      "metadata": {
        "colab": {
          "base_uri": "https://localhost:8080/"
        },
        "id": "3op1UUtj5fvn",
        "outputId": "9908a7b7-6ac3-48ff-e8b3-599d5646b36a"
      },
      "execution_count": 102,
      "outputs": [
        {
          "output_type": "stream",
          "name": "stdout",
          "text": [
            "Valores atualizados com sucesso!\n"
          ]
        }
      ]
    }
  ]
}
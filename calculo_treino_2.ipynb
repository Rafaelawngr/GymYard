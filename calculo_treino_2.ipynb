{
  "nbformat": 4,
  "nbformat_minor": 0,
  "metadata": {
    "colab": {
      "provenance": [],
      "include_colab_link": true
    },
    "kernelspec": {
      "display_name": "Python 3",
      "name": "python3"
    }
  },
  "cells": [
    {
      "cell_type": "markdown",
      "metadata": {
        "id": "view-in-github",
        "colab_type": "text"
      },
      "source": [
        "<a href=\"https://colab.research.google.com/github/Rafaelawngr/GymYard/blob/main/calculo_treino_2.ipynb\" target=\"_parent\"><img src=\"https://colab.research.google.com/assets/colab-badge.svg\" alt=\"Open In Colab\"/></a>"
      ]
    },
    {
      "cell_type": "markdown",
      "metadata": {
        "id": "UUcBAKS165wn"
      },
      "source": [
        "GymYard - Cálculo progressão de carga Semanal"
      ]
    },
    {
      "cell_type": "code",
      "metadata": {
        "id": "qQqfXO-k64qW",
        "colab": {
          "base_uri": "https://localhost:8080/"
        },
        "outputId": "9b778df6-8718-4a4c-b706-acc64c31c4cb"
      },
      "source": [
        "# Instala pacote para uma versão mais recente.\n",
        "!pip install --upgrade gspread"
      ],
      "execution_count": 1,
      "outputs": [
        {
          "output_type": "stream",
          "name": "stdout",
          "text": [
            "Requirement already satisfied: gspread in /usr/local/lib/python3.10/dist-packages (3.4.2)\n",
            "Collecting gspread\n",
            "  Downloading gspread-5.11.3-py3-none-any.whl (46 kB)\n",
            "\u001b[2K     \u001b[90m━━━━━━━━━━━━━━━━━━━━━━━━━━━━━━━━━━━━━━━━\u001b[0m \u001b[32m46.7/46.7 kB\u001b[0m \u001b[31m1.4 MB/s\u001b[0m eta \u001b[36m0:00:00\u001b[0m\n",
            "\u001b[?25hRequirement already satisfied: google-auth>=1.12.0 in /usr/local/lib/python3.10/dist-packages (from gspread) (2.17.3)\n",
            "Requirement already satisfied: google-auth-oauthlib>=0.4.1 in /usr/local/lib/python3.10/dist-packages (from gspread) (1.0.0)\n",
            "Requirement already satisfied: cachetools<6.0,>=2.0.0 in /usr/local/lib/python3.10/dist-packages (from google-auth>=1.12.0->gspread) (5.3.1)\n",
            "Requirement already satisfied: pyasn1-modules>=0.2.1 in /usr/local/lib/python3.10/dist-packages (from google-auth>=1.12.0->gspread) (0.3.0)\n",
            "Requirement already satisfied: six>=1.9.0 in /usr/local/lib/python3.10/dist-packages (from google-auth>=1.12.0->gspread) (1.16.0)\n",
            "Requirement already satisfied: rsa<5,>=3.1.4 in /usr/local/lib/python3.10/dist-packages (from google-auth>=1.12.0->gspread) (4.9)\n",
            "Requirement already satisfied: requests-oauthlib>=0.7.0 in /usr/local/lib/python3.10/dist-packages (from google-auth-oauthlib>=0.4.1->gspread) (1.3.1)\n",
            "Requirement already satisfied: pyasn1<0.6.0,>=0.4.6 in /usr/local/lib/python3.10/dist-packages (from pyasn1-modules>=0.2.1->google-auth>=1.12.0->gspread) (0.5.0)\n",
            "Requirement already satisfied: oauthlib>=3.0.0 in /usr/local/lib/python3.10/dist-packages (from requests-oauthlib>=0.7.0->google-auth-oauthlib>=0.4.1->gspread) (3.2.2)\n",
            "Requirement already satisfied: requests>=2.0.0 in /usr/local/lib/python3.10/dist-packages (from requests-oauthlib>=0.7.0->google-auth-oauthlib>=0.4.1->gspread) (2.31.0)\n",
            "Requirement already satisfied: charset-normalizer<4,>=2 in /usr/local/lib/python3.10/dist-packages (from requests>=2.0.0->requests-oauthlib>=0.7.0->google-auth-oauthlib>=0.4.1->gspread) (3.2.0)\n",
            "Requirement already satisfied: idna<4,>=2.5 in /usr/local/lib/python3.10/dist-packages (from requests>=2.0.0->requests-oauthlib>=0.7.0->google-auth-oauthlib>=0.4.1->gspread) (3.4)\n",
            "Requirement already satisfied: urllib3<3,>=1.21.1 in /usr/local/lib/python3.10/dist-packages (from requests>=2.0.0->requests-oauthlib>=0.7.0->google-auth-oauthlib>=0.4.1->gspread) (2.0.4)\n",
            "Requirement already satisfied: certifi>=2017.4.17 in /usr/local/lib/python3.10/dist-packages (from requests>=2.0.0->requests-oauthlib>=0.7.0->google-auth-oauthlib>=0.4.1->gspread) (2023.7.22)\n",
            "Installing collected packages: gspread\n",
            "  Attempting uninstall: gspread\n",
            "    Found existing installation: gspread 3.4.2\n",
            "    Uninstalling gspread-3.4.2:\n",
            "      Successfully uninstalled gspread-3.4.2\n",
            "Successfully installed gspread-5.11.3\n"
          ]
        }
      ]
    },
    {
      "cell_type": "code",
      "metadata": {
        "id": "1qM3lXHK8lJR"
      },
      "source": [
        "# Importa pacote de autenticação.\n",
        "import gspread                                                                  # Importa os módulos e autenticação.\n",
        "from google.colab import auth                                                   # Função para autenticação no Google Colab.\n",
        "from google.auth import default                                                 # Função para obter as credenciais padrão do Google.\n",
        "\n",
        "auth.authenticate_user()                                                        # Autenticação com as credenciais do Google.\n",
        "creds, _ = default()\n",
        "\n",
        "gc = gspread.authorize(creds)                                                   # Autorização do gspread com as credenciais."
      ],
      "execution_count": 2,
      "outputs": []
    },
    {
      "cell_type": "code",
      "metadata": {
        "id": "fF5liFGC8p1B"
      },
      "source": [
        "planilha = gc.open('treinos')\n",
        "\n",
        "# Acessar a segunda página\n",
        "pagina2 = planilha.get_worksheet(1)"
      ],
      "execution_count": 9,
      "outputs": []
    },
    {
      "cell_type": "code",
      "source": [
        "!pip install pandas\n"
      ],
      "metadata": {
        "colab": {
          "base_uri": "https://localhost:8080/"
        },
        "id": "Tt9a1hq31Ahp",
        "outputId": "94a45f83-a11f-454a-80b4-58c281baf1d2"
      },
      "execution_count": 5,
      "outputs": [
        {
          "output_type": "stream",
          "name": "stdout",
          "text": [
            "Requirement already satisfied: pandas in /usr/local/lib/python3.10/dist-packages (1.5.3)\n",
            "Requirement already satisfied: python-dateutil>=2.8.1 in /usr/local/lib/python3.10/dist-packages (from pandas) (2.8.2)\n",
            "Requirement already satisfied: pytz>=2020.1 in /usr/local/lib/python3.10/dist-packages (from pandas) (2023.3.post1)\n",
            "Requirement already satisfied: numpy>=1.21.0 in /usr/local/lib/python3.10/dist-packages (from pandas) (1.23.5)\n",
            "Requirement already satisfied: six>=1.5 in /usr/local/lib/python3.10/dist-packages (from python-dateutil>=2.8.1->pandas) (1.16.0)\n"
          ]
        }
      ]
    },
    {
      "cell_type": "code",
      "source": [
        "import pandas as pd"
      ],
      "metadata": {
        "id": "7RA_AfcT1a98"
      },
      "execution_count": 6,
      "outputs": []
    },
    {
      "cell_type": "code",
      "source": [
        "import math"
      ],
      "metadata": {
        "id": "Fyd9Opd-9yGe"
      },
      "execution_count": 17,
      "outputs": []
    },
    {
      "cell_type": "code",
      "source": [
        "worksheet = planilha.get_worksheet(1)\n",
        "data = worksheet.get_all_records()\n",
        "\n",
        "# Lista de faixas de células que quero selecionar\n",
        "celulas_cargas = ['C2:C7', 'C9:C13']\n",
        "\n",
        "# Inicializa uma lista vazia para armazenar as células\n",
        "todas_as_cargas = []\n",
        "for faixa in celulas_cargas:\n",
        "    celulas = worksheet.range(faixa)\n",
        "    celulas_preenchidas = [celula for celula in celulas if celula.value != '']\n",
        "    todas_as_cargas.extend(celulas_preenchidas)\n",
        "\n",
        "# todas_as_cargas contém todas as células preenchidas das faixas especificadas\n",
        "for cell in todas_as_cargas:\n",
        "    print(cell.value)"
      ],
      "metadata": {
        "colab": {
          "base_uri": "https://localhost:8080/"
        },
        "id": "xE_vSRPs0a7t",
        "outputId": "aa3521ca-7fcf-4217-9f9e-aaa37b9ba395"
      },
      "execution_count": 29,
      "outputs": [
        {
          "output_type": "stream",
          "name": "stdout",
          "text": [
            "32\n",
            "11\n",
            "13\n",
            "9\n",
            "27\n",
            "9\n",
            "11\n",
            "11\n",
            "53\n",
            "42\n",
            "42\n"
          ]
        }
      ]
    },
    {
      "cell_type": "code",
      "source": [
        "# Atualiza os valores nas células em 5% a mais e arredondar para cima\n",
        "for cell in todas_as_cargas:\n",
        "    valor_atual = float(cell.value)\n",
        "    novo_valor = math.ceil(valor_atual * 1.05)\n",
        "    cell.value = str(novo_valor)\n",
        "\n",
        "# Envia as alterações para a planilha\n",
        "worksheet.update_cells(todas_as_cargas)\n",
        "\n",
        "print(\"Valores atualizados com sucesso!\")"
      ],
      "metadata": {
        "colab": {
          "base_uri": "https://localhost:8080/"
        },
        "id": "3op1UUtj5fvn",
        "outputId": "191864af-48f2-43b0-8763-3f4eac2f94ec"
      },
      "execution_count": 26,
      "outputs": [
        {
          "output_type": "stream",
          "name": "stdout",
          "text": [
            "Valores atualizados com sucesso!\n"
          ]
        }
      ]
    }
  ]
}